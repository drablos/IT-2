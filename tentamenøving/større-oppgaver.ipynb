{
 "cells": [
  {
   "cell_type": "code",
   "execution_count": 1,
   "metadata": {},
   "outputs": [],
   "source": [
    "# Twitter\n",
    "import json\n",
    "with open(\"twitter.json\", encoding=\"utf-8\") as fil:\n",
    "    brukere = json.load(fil)\n",
    "    "
   ]
  },
  {
   "cell_type": "code",
   "execution_count": 2,
   "metadata": {},
   "outputs": [
    {
     "name": "stdout",
     "output_type": "stream",
     "text": [
      "1. elonmusk - 180483638 følgere\n",
      "2. BarackObama - 131876712 følgere\n",
      "3. Cristiano - 111007811 følgere\n",
      "4. justinbieber - 110939914 følgere\n",
      "5. rihanna - 107958168 følgere\n",
      "6. katyperry - 106547420 følgere\n",
      "7. narendramodi - 97228794 følgere\n",
      "8. taylorswift13 - 95267900 følgere\n",
      "9. realDonaldTrump - 87352378 følgere\n",
      "10. ArianaGrande - 85268269 følgere\n"
     ]
    }
   ],
   "source": [
    "# Lag et program som finner og presenterer de ti brukerne i datasettet som har flest Twitter-følgere.\n",
    "brukere_sortert= sorted(brukere, key=lambda bruker: bruker[\"followers\"], reverse=True)\n",
    "\n",
    "for i, bruker in enumerate(brukere_sortert[:10]):\n",
    "    print(f\"{i + 1}. {bruker['username']} - {bruker['followers']} følgere\")\n"
   ]
  },
  {
   "cell_type": "code",
   "execution_count": 3,
   "metadata": {},
   "outputs": [
    {
     "name": "stdout",
     "output_type": "stream",
     "text": [
      "1. elonmusk - 180483638 følgere\n",
      "   Tweets: 42318\n",
      "2. BarackObama - 131876712 følgere\n",
      "   Tweets: 17016\n",
      "3. Cristiano - 111007811 følgere\n",
      "   Tweets: 4061\n",
      "4. justinbieber - 110939914 følgere\n",
      "   Tweets: 31176\n",
      "5. rihanna - 107958168 følgere\n",
      "   Tweets: 10718\n",
      "6. katyperry - 106547420 følgere\n",
      "   Tweets: 11990\n",
      "7. narendramodi - 97228794 følgere\n",
      "   Tweets: 41209\n",
      "8. taylorswift13 - 95267900 følgere\n",
      "   Tweets: 828\n",
      "9. realDonaldTrump - 87352378 følgere\n",
      "   Tweets: 59120\n",
      "10. ArianaGrande - 85268269 følgere\n",
      "   Tweets: 47154\n"
     ]
    }
   ],
   "source": [
    "# Utvid programmet slik at det regner ut og presenterer antall tweets og antall følgere per bruker for disse ti brukerne.\n",
    "\n",
    "brukere_sortert= sorted(brukere, key=lambda bruker: bruker[\"followers\"], reverse=True)\n",
    "\n",
    "for i, bruker in enumerate(brukere_sortert[:10]):\n",
    "    print(f\"{i + 1}. {bruker['username']} - {bruker['followers']} følgere\")\n",
    "    print(f\"   Tweets: {bruker['tweets']}\")"
   ]
  },
  {
   "cell_type": "code",
   "execution_count": 5,
   "metadata": {},
   "outputs": [
    {
     "name": "stdout",
     "output_type": "stream",
     "text": [
      "1. elonmusk - 180483638 følgere\n",
      "   Tweets: 42318\n",
      "   Følgere/Følger ratio: 314431.43\n",
      "2. BarackObama - 131876712 følgere\n",
      "   Tweets: 17016\n",
      "   Følgere/Følger ratio: 242.86\n",
      "3. Cristiano - 111007811 følgere\n",
      "   Tweets: 4061\n",
      "   Følgere/Følger ratio: 1608808.86\n",
      "4. justinbieber - 110939914 følgere\n",
      "   Tweets: 31176\n",
      "   Følgere/Følger ratio: 404.70\n",
      "5. rihanna - 107958168 følgere\n",
      "   Tweets: 10718\n",
      "   Følgere/Følger ratio: 111411.94\n",
      "6. katyperry - 106547420 følgere\n",
      "   Tweets: 11990\n",
      "   Følgere/Følger ratio: 442105.48\n",
      "7. narendramodi - 97228794 følgere\n",
      "   Tweets: 41209\n",
      "   Følgere/Følger ratio: 36511.00\n",
      "8. taylorswift13 - 95267900 følgere\n",
      "   Tweets: 828\n",
      "   Følgere/Følger ratio: inf\n",
      "9. realDonaldTrump - 87352378 følgere\n",
      "   Tweets: 59120\n",
      "   Følgere/Følger ratio: 1712791.73\n",
      "10. ArianaGrande - 85268269 følgere\n",
      "   Tweets: 47154\n",
      "   Følgere/Følger ratio: 1536.53\n"
     ]
    }
   ],
   "source": [
    "# Utvid programmet slik at det også viser brukerenes følgere/følger-ratio, altså antall som følger kontoen delt på antall som kontoen følger.\n",
    "\n",
    "brukere_sortert= sorted(brukere, key=lambda bruker: bruker[\"followers\"], reverse=True)\n",
    "\n",
    "for i, bruker in enumerate(brukere_sortert[:10]):\n",
    "    folgere = bruker[\"followers\"]\n",
    "    folger = bruker[\"following\"]\n",
    "    ratio = folgere / folger if folger != 0 else float('inf')\n",
    "    print(f\"{i + 1}. {bruker['username']} - {bruker['followers']} følgere\")\n",
    "    print(f\"   Tweets: {bruker['tweets']}\")\n",
    "    print(f\"   Følgere/Følger ratio: {ratio:.2f}\")"
   ]
  },
  {
   "cell_type": "code",
   "execution_count": 6,
   "metadata": {},
   "outputs": [],
   "source": [
    "# Youtube\n",
    "import json\n",
    "with open(\"Global-YouTube-Statistics.json\", encoding=\"utf-8\") as fil:\n",
    "    kanaler = json.load(fil)"
   ]
  },
  {
   "cell_type": "code",
   "execution_count": 8,
   "metadata": {},
   "outputs": [
    {
     "name": "stdout",
     "output_type": "stream",
     "text": [
      "De ti landene med flest YouTube-kanaler er:\n",
      "1. United States: 313 kanaler\n",
      "2. India: 168 kanaler\n",
      "3. nan: 122 kanaler\n",
      "4. Brazil: 62 kanaler\n",
      "5. United Kingdom: 43 kanaler\n",
      "6. Mexico: 33 kanaler\n",
      "7. Indonesia: 28 kanaler\n",
      "8. Spain: 22 kanaler\n",
      "9. Thailand: 18 kanaler\n",
      "10. South Korea: 17 kanaler\n"
     ]
    }
   ],
   "source": [
    "# Lag et program som finner og presenterer de ti landene i datasettet som har flest YouTube-kanaler.\n",
    "land_antall = {}\n",
    "\n",
    "for kanal in kanaler:\n",
    "    land = kanal[\"Country\"]\n",
    "    if land not in land_antall:\n",
    "        land_antall[land] = 1\n",
    "    else:\n",
    "        land_antall[land] += 1\n",
    "\n",
    "land_liste = land_antall.items()\n",
    "land_sortert = sorted(land_liste, key=lambda x: x[1], reverse=True)\n",
    "\n",
    "print(\"De ti landene med flest YouTube-kanaler er:\")\n",
    "for i, (land, antall) in enumerate(land_sortert[:10]):\n",
    "    print(f\"{i + 1}. {land}: {antall} kanaler\")"
   ]
  },
  {
   "cell_type": "code",
   "execution_count": 9,
   "metadata": {},
   "outputs": [
    {
     "name": "stdout",
     "output_type": "stream",
     "text": [
      "De ti landene med flest YouTube-kanaler er:\n",
      "1. United States: 313 kanaler - Gjennomsnittlig antall abonnenter: 23416932.91, Gjennomsnittlig antall videovisninger: 11790069702.74\n",
      "2. India: 168 kanaler - Gjennomsnittlig antall abonnenter: 25658333.33, Gjennomsnittlig antall videovisninger: 13577668900.02\n",
      "3. nan: 122 kanaler - Gjennomsnittlig antall abonnenter: 23952459.02, Gjennomsnittlig antall videovisninger: 9714363614.37\n",
      "4. Brazil: 62 kanaler - Gjennomsnittlig antall abonnenter: 19706451.61, Gjennomsnittlig antall videovisninger: 7761435068.82\n",
      "5. United Kingdom: 43 kanaler - Gjennomsnittlig antall abonnenter: 21334883.72, Gjennomsnittlig antall videovisninger: 10013175153.67\n",
      "6. Mexico: 33 kanaler - Gjennomsnittlig antall abonnenter: 18996969.70, Gjennomsnittlig antall videovisninger: 6006664609.79\n",
      "7. Indonesia: 28 kanaler - Gjennomsnittlig antall abonnenter: 19075000.00, Gjennomsnittlig antall videovisninger: 5393238180.54\n",
      "8. Spain: 22 kanaler - Gjennomsnittlig antall abonnenter: 17504545.45, Gjennomsnittlig antall videovisninger: 6023669745.41\n",
      "9. Thailand: 18 kanaler - Gjennomsnittlig antall abonnenter: 21472222.22, Gjennomsnittlig antall videovisninger: 14684331930.06\n",
      "10. South Korea: 17 kanaler - Gjennomsnittlig antall abonnenter: 28335294.12, Gjennomsnittlig antall videovisninger: 13270099142.12\n"
     ]
    }
   ],
   "source": [
    "# Utvid programmet til å regne ut og presentere gjennomsnittlig antall abonnenter og videovisninger per kanal for hvert av disse landene.\n",
    "\n",
    "land_antall = {}\n",
    "land_abonnenter = {}\n",
    "land_videovisninger = {}\n",
    "\n",
    "# Gå gjennom hver kanal og tell antall kanaler per land\n",
    "for kanal in kanaler:\n",
    "    land = kanal[\"Country\"]\n",
    "    if land not in land_antall:\n",
    "        land_antall[land] = 1\n",
    "        land_abonnenter[land] = kanal[\"subscribers\"]\n",
    "        land_videovisninger[land] = kanal[\"video views\"]\n",
    "    else:\n",
    "        land_antall[land] += 1\n",
    "        land_abonnenter[land] += kanal[\"subscribers\"]\n",
    "        land_videovisninger[land] += kanal[\"video views\"]\n",
    "\n",
    "# Beregn gjennomsnittlig antall abonnenter og videovisninger per kanal for hvert land\n",
    "for land in land_antall:\n",
    "    land_abonnenter[land] /= land_antall[land]\n",
    "    land_videovisninger[land] /= land_antall[land]\n",
    "\n",
    "# Presenter de ti landene med flest YouTube-kanaler og deres gjennomsnittlige antall abonnenter og videovisninger per kanal\n",
    "print(\"De ti landene med flest YouTube-kanaler er:\")\n",
    "for i, (land, antall) in enumerate(sorted(land_antall.items(), key=lambda x: x[1], reverse=True)[:10], 1):\n",
    "    gjennomsnittlig_abonnenter = land_abonnenter[land]\n",
    "    gjennomsnittlig_videovisninger = land_videovisninger[land]\n",
    "    print(f\"{i}. {land}: {antall} kanaler - Gjennomsnittlig antall abonnenter: {gjennomsnittlig_abonnenter:.2f}, Gjennomsnittlig antall videovisninger: {gjennomsnittlig_videovisninger:.2f}\")"
   ]
  },
  {
   "cell_type": "code",
   "execution_count": 10,
   "metadata": {},
   "outputs": [],
   "source": [
    "# Google Play Store\n",
    "import json\n",
    "with open(\"google-play-store.json\", encoding=\"utf-8\") as fil:\n",
    "    apper = json.load(fil)"
   ]
  },
  {
   "cell_type": "code",
   "execution_count": 11,
   "metadata": {},
   "outputs": [
    {
     "name": "stdout",
     "output_type": "stream",
     "text": [
      "Oversikt over de tre største kategoriene:\n",
      "Kategori: FAMILY\n",
      "Antall apper: 1972\n",
      "Gjennomsnittlig rating: 3.71\n",
      "Gjennomsnittlig antall installasjoner: 5,201,959\n",
      "\n",
      "Kategori: GAME\n",
      "Antall apper: 1144\n",
      "Gjennomsnittlig rating: 4.11\n",
      "Gjennomsnittlig antall installasjoner: 30,669,602\n",
      "\n",
      "Kategori: TOOLS\n",
      "Antall apper: 843\n",
      "Gjennomsnittlig rating: 3.52\n",
      "Gjennomsnittlig antall installasjoner: 13,585,732\n",
      "\n"
     ]
    }
   ],
   "source": [
    "# Lag et program som presenterer en oversikt over de tre største kategoriene målt i antall apper. Oversikten skal vise antallet apper, gjennomsnittsratingen og det gjennomsnittlige antallet installasjoner for hver av disse tre kategoriene.\n",
    "\n",
    "# Opprett tomme lister for å lagre informasjon om apper og kategorier\n",
    "apper_per_kategori = {}\n",
    "total_rating_per_kategori = {}\n",
    "total_installs_per_kategori = {}\n",
    "\n",
    "# Gå gjennom hver app og oppdater informasjonen for hver kategori\n",
    "for app in apper:\n",
    "    kategori = app[\"Category\"]\n",
    "    installs = app[\"Installs\"].replace(\",\", \"\").rstrip(\"+\")\n",
    "    # Sjekk om installs er en tallverdi før konvertering\n",
    "    if installs.isdigit():\n",
    "        antall_installs = int(installs)\n",
    "    else:\n",
    "        antall_installs = 0\n",
    "    # Sjekk om Rating er en gyldig flyttall før konvertering\n",
    "    if app[\"Rating\"].replace(\".\", \"\", 1).isdigit():\n",
    "        rating = float(app[\"Rating\"])\n",
    "    else:\n",
    "        rating = None\n",
    "\n",
    "    # Oppdater informasjonen for kategorien\n",
    "    if kategori in apper_per_kategori:\n",
    "        apper_per_kategori[kategori] += 1\n",
    "        total_installs_per_kategori[kategori] += antall_installs\n",
    "        # Legg til ratingen hvis den er gyldig\n",
    "        if rating is not None:\n",
    "            total_rating_per_kategori[kategori] += rating\n",
    "    else:\n",
    "        apper_per_kategori[kategori] = 1\n",
    "        total_installs_per_kategori[kategori] = antall_installs\n",
    "        # Legg til ratingen hvis den er gyldig\n",
    "        if rating is not None:\n",
    "            total_rating_per_kategori[kategori] = rating\n",
    "\n",
    "# Finn de tre største kategoriene basert på antall apper\n",
    "top_3_kategorier = sorted(apper_per_kategori.items(), key=lambda x: x[1], reverse=True)[:3]\n",
    "\n",
    "# Presenter oversikten over de tre største kategoriene\n",
    "print(\"Oversikt over de tre største kategoriene:\")\n",
    "for kategori, antall_apper in top_3_kategorier:\n",
    "    gjennomsnittlig_installs = total_installs_per_kategori[kategori] / antall_apper\n",
    "    if antall_apper != 0:\n",
    "        gjennomsnittlig_rating = total_rating_per_kategori[kategori] / antall_apper\n",
    "        print(f\"Kategori: {kategori}\")\n",
    "        print(f\"Antall apper: {antall_apper}\")\n",
    "        print(f\"Gjennomsnittlig rating: {gjennomsnittlig_rating:.2f}\")\n",
    "        print(f\"Gjennomsnittlig antall installasjoner: {gjennomsnittlig_installs:,.0f}\\n\")\n",
    "    else:\n",
    "        print(f\"Kategori: {kategori}\")\n",
    "        print(\"Ingen gyldige data for gjennomsnittlig rating\")\n",
    "        print(f\"Gjennomsnittlig antall installasjoner: {gjennomsnittlig_installs:,.0f}\\n\")\n"
   ]
  },
  {
   "cell_type": "code",
   "execution_count": 12,
   "metadata": {},
   "outputs": [
    {
     "name": "stdout",
     "output_type": "stream",
     "text": [
      "Oversikt over de tre største kategoriene:\n",
      "Kategori: FAMILY\n",
      "Antall apper: 1972\n",
      "Gjennomsnittlig rating: 3.71\n",
      "Gjennomsnittlig antall installasjoner: 5,201,959\n",
      "De tre mest populære appene i denne kategorien:\n",
      "1. Google Play Games - 1,000,000,000+\n",
      "2. Pou - 500,000,000+\n",
      "3. My Talking Tom - 500,000,000+\n",
      "\n",
      "Kategori: GAME\n",
      "Antall apper: 1144\n",
      "Gjennomsnittlig rating: 4.11\n",
      "Gjennomsnittlig antall installasjoner: 30,669,602\n",
      "De tre mest populære appene i denne kategorien:\n",
      "1. Subway Surfers - 1,000,000,000+\n",
      "2. Subway Surfers - 1,000,000,000+\n",
      "3. Subway Surfers - 1,000,000,000+\n",
      "\n",
      "Kategori: TOOLS\n",
      "Antall apper: 843\n",
      "Gjennomsnittlig rating: 3.52\n",
      "Gjennomsnittlig antall installasjoner: 13,585,732\n",
      "De tre mest populære appene i denne kategorien:\n",
      "1. Google - 1,000,000,000+\n",
      "2. Google - 1,000,000,000+\n",
      "3. Google Translate - 500,000,000+\n",
      "\n"
     ]
    }
   ],
   "source": [
    "# Utvid programmet slik at det også presenterer de tre mest populære appene, målt i antall installasjoner, i hver av disse tre kategoriene.\n",
    "\n",
    "# Opprett tomme lister for å lagre informasjon om apper og kategorier\n",
    "apper_per_kategori = {}\n",
    "total_rating_per_kategori = {}\n",
    "total_installs_per_kategori = {}\n",
    "\n",
    "# Gå gjennom hver app og oppdater informasjonen for hver kategori\n",
    "for app in apper:\n",
    "    kategori = app[\"Category\"]\n",
    "    installs = app[\"Installs\"].replace(\",\", \"\").rstrip(\"+\")\n",
    "    # Sjekk om installs er en tallverdi før konvertering\n",
    "    if installs.isdigit():\n",
    "        antall_installs = int(installs)\n",
    "    else:\n",
    "        antall_installs = 0\n",
    "    # Sjekk om Rating er en gyldig flyttall før konvertering\n",
    "    if app[\"Rating\"].replace(\".\", \"\", 1).isdigit():\n",
    "        rating = float(app[\"Rating\"])\n",
    "    else:\n",
    "        rating = None\n",
    "\n",
    "    # Oppdater informasjonen for kategorien\n",
    "    if kategori in apper_per_kategori:\n",
    "        apper_per_kategori[kategori].append(app)\n",
    "        total_installs_per_kategori[kategori] += antall_installs\n",
    "        # Legg til ratingen hvis den er gyldig\n",
    "        if rating is not None:\n",
    "            total_rating_per_kategori[kategori] += rating\n",
    "    else:\n",
    "        apper_per_kategori[kategori] = [app]\n",
    "        total_installs_per_kategori[kategori] = antall_installs\n",
    "        # Legg til ratingen hvis den er gyldig\n",
    "        if rating is not None:\n",
    "            total_rating_per_kategori[kategori] = rating\n",
    "\n",
    "# Finn de tre største kategoriene basert på antall apper\n",
    "top_3_kategorier = sorted(apper_per_kategori.items(), key=lambda x: len(x[1]), reverse=True)[:3]\n",
    "\n",
    "# Presenter oversikten over de tre største kategoriene\n",
    "print(\"Oversikt over de tre største kategoriene:\")\n",
    "for kategori, apper in top_3_kategorier:\n",
    "    gjennomsnittlig_installs = total_installs_per_kategori[kategori] / len(apper)\n",
    "    if len(apper) != 0:\n",
    "        gjennomsnittlig_rating = total_rating_per_kategori[kategori] / len(apper)\n",
    "        print(f\"Kategori: {kategori}\")\n",
    "        print(f\"Antall apper: {len(apper)}\")\n",
    "        print(f\"Gjennomsnittlig rating: {gjennomsnittlig_rating:.2f}\")\n",
    "        print(f\"Gjennomsnittlig antall installasjoner: {gjennomsnittlig_installs:,.0f}\")\n",
    "        \n",
    "        # Finn de tre mest populære appene i kategorien basert på antall installasjoner\n",
    "        print(\"De tre mest populære appene i denne kategorien:\")\n",
    "        apper_sortert = sorted(apper, key=lambda x: int(x[\"Installs\"].replace(\",\", \"\").rstrip(\"+\")), reverse=True)[:3]\n",
    "        for idx, app in enumerate(apper_sortert, 1):\n",
    "            print(f\"{idx}. {app['App']} - {app['Installs']}\")\n",
    "        \n",
    "        print() # Legg til en tom linje mellom hver kategori\n",
    "    else:\n",
    "        print(f\"Kategori: {kategori}\")\n",
    "        print(\"Ingen gyldige data for gjennomsnittlig rating\")\n",
    "        print(f\"Gjennomsnittlig antall installasjoner: {gjennomsnittlig_installs:,.0f}\\n\")\n"
   ]
  }
 ],
 "metadata": {
  "kernelspec": {
   "display_name": "Python 3",
   "language": "python",
   "name": "python3"
  },
  "language_info": {
   "codemirror_mode": {
    "name": "ipython",
    "version": 3
   },
   "file_extension": ".py",
   "mimetype": "text/x-python",
   "name": "python",
   "nbconvert_exporter": "python",
   "pygments_lexer": "ipython3",
   "version": "3.11.1"
  }
 },
 "nbformat": 4,
 "nbformat_minor": 2
}
