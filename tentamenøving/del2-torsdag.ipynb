{
 "cells": [
  {
   "cell_type": "markdown",
   "metadata": {},
   "source": [
    "# Del 2 - Med hjelpemidler"
   ]
  },
  {
   "cell_type": "markdown",
   "metadata": {},
   "source": [
    "## Oppgave 3\n",
    "\n",
    "1. Åpne filen `pokemon.json` og print ordboken til `Bulbasaur` (den første i listen)\n",
    "2. Print det engelske navnet på Bulbasaur, HP, attack og defense \n",
    "3. Print det engelske navnet, HP, attack og defense på alle pokemon-ene i filen.\n",
    "4. Velg enten a. eller b.\n",
    "   - a. Lag en ordbok som teller hvor mange Pokemon som er av de forskjellige typene.\n",
    "   - b. Print alle typene til hver pokemeon, en type per linje."
   ]
  },
  {
   "cell_type": "code",
   "execution_count": 3,
   "metadata": {},
   "outputs": [],
   "source": [
    "import json\n",
    "with open(\"pokemon.json\", encoding=\"utf-8\") as fil:\n",
    "    pokemoner = json.load(fil)"
   ]
  },
  {
   "cell_type": "code",
   "execution_count": 5,
   "metadata": {},
   "outputs": [
    {
     "name": "stdout",
     "output_type": "stream",
     "text": [
      "{'id': 1, 'name': {'english': 'Bulbasaur', 'japanese': 'フシギダネ', 'chinese': '妙蛙种子', 'french': 'Bulbizarre'}, 'type': ['Grass', 'Poison'], 'base': {'HP': 45, 'Attack': 49, 'Defense': 49, 'Sp. Attack': 65, 'Sp. Defense': 65, 'Speed': 45}}\n"
     ]
    }
   ],
   "source": [
    "# 1. Åpne filen `pokemon.json` og print ordboken til `Bulbasaur` (den første i listen)\n",
    "\n",
    "print(pokemoner[0])\n"
   ]
  },
  {
   "cell_type": "code",
   "execution_count": 10,
   "metadata": {},
   "outputs": [
    {
     "name": "stdout",
     "output_type": "stream",
     "text": [
      "Bulbasaur - HP: 45, Attack: 49, Defense: 49\n"
     ]
    }
   ],
   "source": [
    "# 2. Print det engelske navnet på Bulbasaur, HP, attack og defense \n",
    "#    i terminalen på én linje.\n",
    "#    Slik: Bulbasaur - HP: 45, Attack: 49, Defense: 49\n",
    "\n",
    "print(f\"{pokemoner[0]['name']['english']} - HP: {pokemoner[0]['base']['HP']}, Attack: {pokemoner[0]['base']['Attack']}, Defense: {pokemoner[0]['base']['Defense']}\")\n"
   ]
  },
  {
   "cell_type": "code",
   "execution_count": 11,
   "metadata": {},
   "outputs": [
    {
     "name": "stdout",
     "output_type": "stream",
     "text": [
      "Bulbasaur - HP: 45, Attack: 49, Defense: 49\n",
      "Ivysaur - HP: 60, Attack: 62, Defense: 63\n",
      "Venusaur - HP: 80, Attack: 82, Defense: 83\n",
      "Charmander - HP: 39, Attack: 52, Defense: 43\n",
      "Charmeleon - HP: 58, Attack: 64, Defense: 58\n",
      "Charizard - HP: 78, Attack: 84, Defense: 78\n",
      "Squirtle - HP: 44, Attack: 48, Defense: 65\n",
      "Wartortle - HP: 59, Attack: 63, Defense: 80\n",
      "Blastoise - HP: 79, Attack: 83, Defense: 100\n",
      "Caterpie - HP: 45, Attack: 30, Defense: 35\n",
      "Metapod - HP: 50, Attack: 20, Defense: 55\n",
      "Butterfree - HP: 60, Attack: 45, Defense: 50\n",
      "Weedle - HP: 40, Attack: 35, Defense: 30\n",
      "Kakuna - HP: 45, Attack: 25, Defense: 50\n",
      "Beedrill - HP: 65, Attack: 90, Defense: 40\n",
      "Pidgey - HP: 40, Attack: 45, Defense: 40\n",
      "Pidgeotto - HP: 63, Attack: 60, Defense: 55\n",
      "Pidgeot - HP: 83, Attack: 80, Defense: 75\n",
      "Rattata - HP: 30, Attack: 56, Defense: 35\n",
      "Raticate - HP: 55, Attack: 81, Defense: 60\n",
      "Spearow - HP: 40, Attack: 60, Defense: 30\n",
      "Fearow - HP: 65, Attack: 90, Defense: 65\n",
      "Ekans - HP: 35, Attack: 60, Defense: 44\n",
      "Arbok - HP: 60, Attack: 95, Defense: 69\n",
      "Pikachu - HP: 35, Attack: 55, Defense: 40\n",
      "Raichu - HP: 60, Attack: 90, Defense: 55\n",
      "Sandshrew - HP: 50, Attack: 75, Defense: 85\n",
      "Sandslash - HP: 75, Attack: 100, Defense: 110\n",
      "Nidoran♀ - HP: 55, Attack: 47, Defense: 52\n",
      "Nidorina - HP: 70, Attack: 62, Defense: 67\n",
      "Nidoqueen - HP: 90, Attack: 92, Defense: 87\n",
      "Nidoran♂ - HP: 46, Attack: 57, Defense: 40\n",
      "Nidorino - HP: 61, Attack: 72, Defense: 57\n",
      "Nidoking - HP: 81, Attack: 102, Defense: 77\n",
      "Clefairy - HP: 70, Attack: 45, Defense: 48\n",
      "Clefable - HP: 95, Attack: 70, Defense: 73\n",
      "Vulpix - HP: 38, Attack: 41, Defense: 40\n",
      "Ninetales - HP: 73, Attack: 76, Defense: 75\n",
      "Jigglypuff - HP: 115, Attack: 45, Defense: 20\n",
      "Wigglytuff - HP: 140, Attack: 70, Defense: 45\n",
      "Zubat - HP: 40, Attack: 45, Defense: 35\n",
      "Golbat - HP: 75, Attack: 80, Defense: 70\n",
      "Oddish - HP: 45, Attack: 50, Defense: 55\n",
      "Gloom - HP: 60, Attack: 65, Defense: 70\n",
      "Vileplume - HP: 75, Attack: 80, Defense: 85\n",
      "Paras - HP: 35, Attack: 70, Defense: 55\n",
      "Parasect - HP: 60, Attack: 95, Defense: 80\n",
      "Venonat - HP: 60, Attack: 55, Defense: 50\n",
      "Venomoth - HP: 70, Attack: 65, Defense: 60\n",
      "Diglett - HP: 10, Attack: 55, Defense: 25\n",
      "Dugtrio - HP: 35, Attack: 100, Defense: 50\n",
      "Meowth - HP: 40, Attack: 45, Defense: 35\n",
      "Persian - HP: 65, Attack: 70, Defense: 60\n",
      "Psyduck - HP: 50, Attack: 52, Defense: 48\n",
      "Golduck - HP: 80, Attack: 82, Defense: 78\n",
      "Mankey - HP: 40, Attack: 80, Defense: 35\n",
      "Primeape - HP: 65, Attack: 105, Defense: 60\n",
      "Growlithe - HP: 55, Attack: 70, Defense: 45\n",
      "Arcanine - HP: 90, Attack: 110, Defense: 80\n",
      "Poliwag - HP: 40, Attack: 50, Defense: 40\n",
      "Poliwhirl - HP: 65, Attack: 65, Defense: 65\n",
      "Poliwrath - HP: 90, Attack: 95, Defense: 95\n",
      "Abra - HP: 25, Attack: 20, Defense: 15\n",
      "Kadabra - HP: 40, Attack: 35, Defense: 30\n",
      "Alakazam - HP: 55, Attack: 50, Defense: 45\n",
      "Machop - HP: 70, Attack: 80, Defense: 50\n",
      "Machoke - HP: 80, Attack: 100, Defense: 70\n",
      "Machamp - HP: 90, Attack: 130, Defense: 80\n",
      "Bellsprout - HP: 50, Attack: 75, Defense: 35\n",
      "Weepinbell - HP: 65, Attack: 90, Defense: 50\n",
      "Victreebel - HP: 80, Attack: 105, Defense: 65\n",
      "Tentacool - HP: 40, Attack: 40, Defense: 35\n",
      "Tentacruel - HP: 80, Attack: 70, Defense: 65\n",
      "Geodude - HP: 40, Attack: 80, Defense: 100\n",
      "Graveler - HP: 55, Attack: 95, Defense: 115\n",
      "Golem - HP: 80, Attack: 120, Defense: 130\n",
      "Ponyta - HP: 50, Attack: 85, Defense: 55\n",
      "Rapidash - HP: 65, Attack: 100, Defense: 70\n",
      "Slowpoke - HP: 90, Attack: 65, Defense: 65\n",
      "Slowbro - HP: 95, Attack: 75, Defense: 110\n",
      "Magnemite - HP: 25, Attack: 35, Defense: 70\n",
      "Magneton - HP: 50, Attack: 60, Defense: 95\n",
      "Farfetch'd - HP: 52, Attack: 90, Defense: 55\n",
      "Doduo - HP: 35, Attack: 85, Defense: 45\n",
      "Dodrio - HP: 60, Attack: 110, Defense: 70\n",
      "Seel - HP: 65, Attack: 45, Defense: 55\n",
      "Dewgong - HP: 90, Attack: 70, Defense: 80\n",
      "Grimer - HP: 80, Attack: 80, Defense: 50\n",
      "Muk - HP: 105, Attack: 105, Defense: 75\n",
      "Shellder - HP: 30, Attack: 65, Defense: 100\n",
      "Cloyster - HP: 50, Attack: 95, Defense: 180\n",
      "Gastly - HP: 30, Attack: 35, Defense: 30\n",
      "Haunter - HP: 45, Attack: 50, Defense: 45\n",
      "Gengar - HP: 60, Attack: 65, Defense: 60\n",
      "Onix - HP: 35, Attack: 45, Defense: 160\n",
      "Drowzee - HP: 60, Attack: 48, Defense: 45\n",
      "Hypno - HP: 85, Attack: 73, Defense: 70\n",
      "Krabby - HP: 30, Attack: 105, Defense: 90\n",
      "Kingler - HP: 55, Attack: 130, Defense: 115\n",
      "Voltorb - HP: 40, Attack: 30, Defense: 50\n",
      "Electrode - HP: 60, Attack: 50, Defense: 70\n",
      "Exeggcute - HP: 60, Attack: 40, Defense: 80\n",
      "Exeggutor - HP: 95, Attack: 95, Defense: 85\n",
      "Cubone - HP: 50, Attack: 50, Defense: 95\n",
      "Marowak - HP: 60, Attack: 80, Defense: 110\n",
      "Hitmonlee - HP: 50, Attack: 120, Defense: 53\n",
      "Hitmonchan - HP: 50, Attack: 105, Defense: 79\n",
      "Lickitung - HP: 90, Attack: 55, Defense: 75\n",
      "Koffing - HP: 40, Attack: 65, Defense: 95\n",
      "Weezing - HP: 65, Attack: 90, Defense: 120\n",
      "Rhyhorn - HP: 80, Attack: 85, Defense: 95\n",
      "Rhydon - HP: 105, Attack: 130, Defense: 120\n",
      "Chansey - HP: 250, Attack: 5, Defense: 5\n",
      "Tangela - HP: 65, Attack: 55, Defense: 115\n",
      "Kangaskhan - HP: 105, Attack: 95, Defense: 80\n",
      "Horsea - HP: 30, Attack: 40, Defense: 70\n",
      "Seadra - HP: 55, Attack: 65, Defense: 95\n",
      "Goldeen - HP: 45, Attack: 67, Defense: 60\n",
      "Seaking - HP: 80, Attack: 92, Defense: 65\n",
      "Staryu - HP: 30, Attack: 45, Defense: 55\n",
      "Starmie - HP: 60, Attack: 75, Defense: 85\n",
      "Mr. Mime - HP: 40, Attack: 45, Defense: 65\n",
      "Scyther - HP: 70, Attack: 110, Defense: 80\n",
      "Jynx - HP: 65, Attack: 50, Defense: 35\n",
      "Electabuzz - HP: 65, Attack: 83, Defense: 57\n",
      "Magmar - HP: 65, Attack: 95, Defense: 57\n",
      "Pinsir - HP: 65, Attack: 125, Defense: 100\n",
      "Tauros - HP: 75, Attack: 100, Defense: 95\n",
      "Magikarp - HP: 20, Attack: 10, Defense: 55\n",
      "Gyarados - HP: 95, Attack: 125, Defense: 79\n",
      "Lapras - HP: 130, Attack: 85, Defense: 80\n",
      "Ditto - HP: 48, Attack: 48, Defense: 48\n",
      "Eevee - HP: 55, Attack: 55, Defense: 50\n",
      "Vaporeon - HP: 130, Attack: 65, Defense: 60\n",
      "Jolteon - HP: 65, Attack: 65, Defense: 60\n",
      "Flareon - HP: 65, Attack: 130, Defense: 60\n",
      "Porygon - HP: 65, Attack: 60, Defense: 70\n",
      "Omanyte - HP: 35, Attack: 40, Defense: 100\n",
      "Omastar - HP: 70, Attack: 60, Defense: 125\n",
      "Kabuto - HP: 30, Attack: 80, Defense: 90\n",
      "Kabutops - HP: 60, Attack: 115, Defense: 105\n",
      "Aerodactyl - HP: 80, Attack: 105, Defense: 65\n",
      "Snorlax - HP: 160, Attack: 110, Defense: 65\n",
      "Articuno - HP: 90, Attack: 85, Defense: 100\n",
      "Zapdos - HP: 90, Attack: 90, Defense: 85\n",
      "Moltres - HP: 90, Attack: 100, Defense: 90\n",
      "Dratini - HP: 41, Attack: 64, Defense: 45\n",
      "Dragonair - HP: 61, Attack: 84, Defense: 65\n",
      "Dragonite - HP: 91, Attack: 134, Defense: 95\n",
      "Mewtwo - HP: 106, Attack: 110, Defense: 90\n",
      "Mew - HP: 100, Attack: 100, Defense: 100\n"
     ]
    }
   ],
   "source": [
    "# 3. Print det engelske navnet, HP, attack og defense på alle pokemon-ene i filen.\n",
    "#    De skal printes på samme måte som i deloppgave 2\n",
    "\n",
    "for pokemon in pokemoner:\n",
    "    print(f\"{pokemon['name']['english']} - HP: {pokemon['base']['HP']}, Attack: {pokemon['base']['Attack']}, Defense: {pokemon['base']['Defense']}\")\n",
    "\n"
   ]
  },
  {
   "cell_type": "markdown",
   "metadata": {},
   "source": [
    "> OM OPPGAVE 4  \n",
    "> Velg enten a. eller b.  \n",
    "> a. gir mest uttelling."
   ]
  },
  {
   "cell_type": "code",
   "execution_count": 13,
   "metadata": {},
   "outputs": [
    {
     "name": "stdout",
     "output_type": "stream",
     "text": [
      "{'Grass': 14, 'Poison': 33, 'Fire': 12, 'Flying': 19, 'Water': 32, 'Bug': 12, 'Normal': 22, 'Electric': 9, 'Ground': 14, 'Fairy': 5, 'Fighting': 8, 'Psychic': 14, 'Rock': 11, 'Steel': 2, 'Ice': 5, 'Ghost': 3, 'Dragon': 3}\n"
     ]
    }
   ],
   "source": [
    "# VELG ENTEN 4a. ELLER 4b.\n",
    "# 4a. Lag en ordbok som teller hvor mange Pokemon som er av de forskjellige typene.\n",
    "pokemon_typer = {}\n",
    "for pokemon in pokemoner:\n",
    "    for type in pokemon[\"type\"]:\n",
    "        if type not in pokemon_typer:\n",
    "            pokemon_typer[type] = 1\n",
    "        else:\n",
    "            pokemon_typer[type] += 1\n",
    "print(pokemon_typer)\n",
    "\n",
    "\n"
   ]
  },
  {
   "cell_type": "code",
   "execution_count": null,
   "metadata": {},
   "outputs": [],
   "source": [
    "# VELG ENTEN 4a. ELLER 4b.\n",
    "# 4b. Print alle typene til hver pokemeon, en type per linje. En type skal printes selv \n",
    "#     om den har blitt printet før.\n",
    "# Eks:\n",
    "# Grass\n",
    "# Poison\n",
    "# Grass\n",
    "# Poison\n",
    "# ...\n"
   ]
  },
  {
   "cell_type": "markdown",
   "metadata": {},
   "source": [
    "## Oppgave 4"
   ]
  },
  {
   "cell_type": "code",
   "execution_count": 15,
   "metadata": {},
   "outputs": [],
   "source": [
    "humorprisen_2023 = [\n",
    "    {\n",
    "        \"pris\": \"Morsomste humorprogram\",\n",
    "        \"nominerte\": [\n",
    "            {\n",
    "                \"navn\": \"Manndag\",\n",
    "                \"produsent\": \"NRK\",\n",
    "                \"vinner\": True\n",
    "            },\n",
    "            {\n",
    "                \"navn\": \"Erlend og Steinar hjelper deg\",\n",
    "                \"produsent\": \"Discovery\",\n",
    "                \"vinner\": False\n",
    "            },\n",
    "            {\n",
    "                \"navn\": \"KARPE: Ferdig, men ikke kom og tørk\",\n",
    "                \"produsent\": \"NRK\",\n",
    "                \"vinner\": False\n",
    "            }\n",
    "        ]\n",
    "    },\n",
    "    {\n",
    "        \"pris\": \"Morsomste underholdningsprogram\",\n",
    "        \"nominerte\": [\n",
    "            {\n",
    "                \"navn\": \"Bordtenniskameratene\",\n",
    "                \"produsent\": \"VGTV\",\n",
    "                \"vinner\": True\n",
    "            },\n",
    "            {\n",
    "                \"navn\": \"Huskestue\",\n",
    "                \"produsent\": \"TV2\",\n",
    "                \"vinner\": False\n",
    "            },\n",
    "            {\n",
    "                \"navn\": \"Kamikaze\",\n",
    "                \"produsent\": \"Discovery\",\n",
    "                \"vinner\": False\n",
    "            }\n",
    "        ]\n",
    "    },\n",
    "    {\n",
    "        \"pris\": \"Morsomste humordrama\",\n",
    "        \"nominerte\": [\n",
    "            {\n",
    "                \"navn\": \"Føkkings Fladseth\",\n",
    "                \"produsent\": \"TV2\",\n",
    "                \"vinner\": True\n",
    "            },\n",
    "            {\n",
    "                \"navn\": \"Basic Bitch\",\n",
    "                \"produsent\": \"Discovery\",\n",
    "                \"vinner\": False\n",
    "            },\n",
    "            {\n",
    "                \"navn\": \"Hva skjedde med Solveig?\",\n",
    "                \"produsent\": \"NRK\",\n",
    "                \"vinner\": False\n",
    "            }\n",
    "        ]\n",
    "    },\n",
    "    {\n",
    "        \"pris\": \"Morsomste podcast\",\n",
    "        \"nominerte\": [\n",
    "            {\n",
    "                \"navn\": \"Backflip med Snorre Monssson\",\n",
    "                \"produsent\": \"Juicy Production\",\n",
    "                \"vinner\": True\n",
    "            },\n",
    "            {\n",
    "                \"navn\": \"Tusvik & Tønne\",\n",
    "                \"produsent\": \"PodMe\",\n",
    "                \"vinner\": False\n",
    "            },\n",
    "            {\n",
    "                \"navn\": \"Guttapassasjen\",\n",
    "                \"produsent\": \"NRK\",\n",
    "                \"vinner\": False\n",
    "            },\n",
    "            {\n",
    "                \"navn\": \"Med all respekt\",\n",
    "                \"produsent\": \"NRK\",\n",
    "                \"vinner\": False\n",
    "            }\n",
    "        ]\n",
    "    }\n",
    "]"
   ]
  },
  {
   "cell_type": "code",
   "execution_count": 16,
   "metadata": {},
   "outputs": [
    {
     "name": "stdout",
     "output_type": "stream",
     "text": [
      "Backflip med Snorre Monssson\n"
     ]
    }
   ],
   "source": [
    "# 1. Bruk listen med ordbøker og print navnet på Snorre Monssons podcast\n",
    "\n",
    "print(humorprisen_2023[3][\"nominerte\"][0][\"navn\"])\n"
   ]
  },
  {
   "cell_type": "code",
   "execution_count": 20,
   "metadata": {},
   "outputs": [
    {
     "name": "stdout",
     "output_type": "stream",
     "text": [
      "Morsomste humorprogram\n",
      "Morsomste underholdningsprogram\n",
      "Morsomste humordrama\n",
      "Morsomste podcast\n"
     ]
    }
   ],
   "source": [
    "# 2. Print navnet på alle prisene\n",
    "for priser in humorprisen_2023:\n",
    "    print(priser[\"pris\"])\n"
   ]
  },
  {
   "cell_type": "code",
   "execution_count": 24,
   "metadata": {},
   "outputs": [
    {
     "name": "stdout",
     "output_type": "stream",
     "text": [
      "Manndag\n",
      "Bordtenniskameratene\n",
      "Føkkings Fladseth\n",
      "Backflip med Snorre Monssson\n"
     ]
    }
   ],
   "source": [
    "# 3. Print alle vinnerne\n",
    "for priser in humorprisen_2023:\n",
    "    for vinnere in priser[\"nominerte\"]:\n",
    "        if vinnere[\"vinner\"]:\n",
    "            print(vinnere[\"navn\"])\n",
    "    \n"
   ]
  },
  {
   "cell_type": "code",
   "execution_count": 25,
   "metadata": {},
   "outputs": [
    {
     "name": "stdout",
     "output_type": "stream",
     "text": [
      "5\n"
     ]
    }
   ],
   "source": [
    "# 4. Hvor mange nominerte er produsert av NRK?\n",
    "nrk = 0\n",
    "for priser in humorprisen_2023:\n",
    "    for nominerte in priser[\"nominerte\"]:\n",
    "        if nominerte[\"produsent\"] == \"NRK\":\n",
    "            nrk += 1\n",
    "\n",
    "print(nrk)\n",
    "            "
   ]
  },
  {
   "cell_type": "code",
   "execution_count": 27,
   "metadata": {},
   "outputs": [
    {
     "name": "stdout",
     "output_type": "stream",
     "text": [
      "{'NRK': 5, 'Discovery': 3, 'VGTV': 1, 'TV2': 2, 'Juicy Production': 1, 'PodMe': 1}\n"
     ]
    },
    {
     "data": {
      "text/plain": [
       "Text(0.5, 0, 'Produsenter')"
      ]
     },
     "execution_count": 27,
     "metadata": {},
     "output_type": "execute_result"
    },
    {
     "data": {
      "image/png": "[encoded data removed]",
      "text/plain": [
       "<Figure size 640x480 with 1 Axes>"
      ]
     },
     "metadata": {},
     "output_type": "display_data"
    }
   ],
   "source": [
    "# 5. Tegn et stolpediagram med antall nominerte gruppert etter produsent\n",
    "import matplotlib.pyplot as plt\n",
    "\n",
    "antall = {}\n",
    "for priser in humorprisen_2023:\n",
    "    for nominerte in priser[\"nominerte\"]:\n",
    "        produsent = nominerte[\"produsent\"]\n",
    "        if produsent not in antall:\n",
    "            antall[produsent] = 1\n",
    "        else:\n",
    "            antall[produsent] += 1\n",
    "\n",
    "produsenter = list(antall.keys())\n",
    "nominerte = list(antall.values())\n",
    "\n",
    "plt.bar(produsenter, nominerte)\n",
    "plt.title(\"Antall nominerte grupper etter produsent\")\n",
    "plt.ylabel(\"Nominerte\")\n",
    "plt.xlabel(\"Produsenter\")\n"
   ]
  }
 ],
 "metadata": {
  "kernelspec": {
   "display_name": "Python 3",
   "language": "python",
   "name": "python3"
  },
  "language_info": {
   "codemirror_mode": {
    "name": "ipython",
    "version": 3
   },
   "file_extension": ".py",
   "mimetype": "text/x-python",
   "name": "python",
   "nbconvert_exporter": "python",
   "pygments_lexer": "ipython3",
   "version": "3.11.1"
  }
 },
 "nbformat": 4,
 "nbformat_minor": 2
}
