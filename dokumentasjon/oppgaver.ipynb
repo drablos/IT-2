{
 "cells": [
  {
   "cell_type": "code",
   "execution_count": null,
   "metadata": {},
   "outputs": [],
   "source": [
    "# 3.17\n",
    "\"\"\" Et program som regner ut areal av trekanter\n",
    "\"\"\"\n",
    "\n",
    "# henter inn grunnlinje og høyde fra bruker\n",
    "# og konverterer til float (desimaltall)\n",
    "grunnlinje = float(input(\"Grunnlinje (cm): \"))\n",
    "hoyde = float(input(\"Høyde (cm): \"))\n",
    " \n",
    "areal = grunnlinje * hoyde / 2\n",
    "print(f\"Arealet er {areal} cm^2\")"
   ]
  },
  {
   "cell_type": "code",
   "execution_count": null,
   "metadata": {},
   "outputs": [],
   "source": [
    "# 3.19\n",
    "class Hund:\n",
    "    \"\"\"\n",
    "    Klasse for en hund\n",
    "\n",
    "    attributter\n",
    "        navn (str): Navnet til hunden\n",
    "        alder (int): Alder til hunden\n",
    "        rase (str): Rasen til hunden\n",
    "    \n",
    "    metoder\n",
    "        bjeff(): Returnerer at hunden bjeffer\n",
    "        vift_på_halen(): Returnerer at hunden vifter på halen\n",
    "        info(): Returnerer informasjon på hunden\n",
    "    \"\"\"\n",
    "    def __init__(self, navn: str, alder: int, rase: str):\n",
    "        self.navn = navn\n",
    "        self.alder = alder\n",
    "        self.rase = rase\n",
    " \n",
    "    def bjeff(self):\n",
    "        return f\"{self.navn} sier: Woof!\"\n",
    " \n",
    "    def vift_på_halen(self):\n",
    "        return f\"{self.navn} vifter på halen!\"\n",
    " \n",
    "    def info(self):\n",
    "        return f\"{self.navn} er en {self.alder} år gammel {self.rase}.\"\n",
    " \n",
    "# Test av klassen\n",
    "if __name__ == \"__main__\":\n",
    "    min_hund = Hund(\"Rex\", 5, \"Schäfer\")\n",
    "    print(min_hund.bjeff())\n",
    "    print(min_hund.vift_på_halen())\n",
    "    print(min_hund.info())\n"
   ]
  }
 ],
 "metadata": {
  "language_info": {
   "name": "python"
  }
 },
 "nbformat": 4,
 "nbformat_minor": 2
}
