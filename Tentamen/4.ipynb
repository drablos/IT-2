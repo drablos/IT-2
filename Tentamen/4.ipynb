{
 "cells": [
  {
   "cell_type": "code",
   "execution_count": 2,
   "metadata": {},
   "outputs": [],
   "source": [
    "import json\n",
    "with open(\"transaksjoner.json\", encoding=\"utf-8\") as fil:\n",
    "    betalinger = json.load(fil)"
   ]
  },
  {
   "cell_type": "code",
   "execution_count": 5,
   "metadata": {},
   "outputs": [
    {
     "name": "stdout",
     "output_type": "stream",
     "text": [
      "De tre stedene med flest kjøp er:\n",
      "1. COOP PRIX CARL BERNER, OSLO, NOR: 10 ganger repetert\n",
      "2. BUNNPRIS SOFIEN, Oslo, NOR: 5 ganger repetert\n",
      "3. TV2 A/S, BERGEN, NOR: 4 ganger repetert\n"
     ]
    }
   ],
   "source": [
    "# 1\n",
    "sted_antall = {}\n",
    "\n",
    "for kjop in betalinger:\n",
    "    sted = kjop[\"beskrivelse\"]\n",
    "    if sted not in sted_antall:\n",
    "        sted_antall[sted] = 1\n",
    "    else:\n",
    "        sted_antall[sted] += 1\n",
    "\n",
    "sted_liste = sted_antall.items()\n",
    "sted_sortert = sorted(sted_liste, key=lambda x: x[1], reverse=True)\n",
    "\n",
    "print(\"De tre stedene med flest kjøp er:\")\n",
    "for i, (sted, antall) in enumerate(sted_sortert[:3]):\n",
    "    print(f\"{i + 1}. {sted}: {antall} ganger repetert\")"
   ]
  },
  {
   "cell_type": "code",
   "execution_count": 14,
   "metadata": {},
   "outputs": [
    {
     "name": "stdout",
     "output_type": "stream",
     "text": [
      "Top 3 steder med gjentatte kjøp:\n",
      "COOP PRIX CARL BERNER, OSLO, NOR Antall kjøp: 10 Total pengebruk: -3777.64 NOK\n",
      "BUNNPRIS SOFIEN, Oslo, NOR Antall kjøp: 5 Total pengebruk: -605.0 NOK\n",
      "TV2 A/S, BERGEN, NOR Antall kjøp: 4 Total pengebruk: -1115.0 NOK\n"
     ]
    }
   ],
   "source": [
    "# 2\n",
    "from collections import defaultdict\n",
    "\n",
    "sted_statistikk = defaultdict(lambda: {'antall_kjop': 0, 'total_pengebruk': 0})\n",
    "\n",
    "for kjop in betalinger:\n",
    "    beskrivelse = kjop['beskrivelse']\n",
    "    belop = float(kjop['belop'])  \n",
    "    \n",
    "    sted_statistikk[beskrivelse]['antall_kjop'] += 1\n",
    "    sted_statistikk[beskrivelse]['total_pengebruk'] += belop\n",
    "\n",
    "top_3_steder = sorted(sted_statistikk.items(), key=lambda x: x[1]['antall_kjop'], reverse=True)[:3]\n",
    "\n",
    "print(\"Top 3 steder med gjentatte kjøp:\")\n",
    "for sted, stats in top_3_steder:\n",
    "    antall_kjop = stats['antall_kjop']\n",
    "    total_pengebruk = stats['total_pengebruk']\n",
    "    \n",
    "    print(f\"{sted} Antall kjøp: {antall_kjop} Total pengebruk: {total_pengebruk} NOK\")"
   ]
  },
  {
   "cell_type": "code",
   "execution_count": 19,
   "metadata": {},
   "outputs": [
    {
     "name": "stdout",
     "output_type": "stream",
     "text": [
      "Top 3 datoer med gjentatte kjøp:\n",
      "2024-01-13 Total pengebruk: -2149.56 NOK Antall kjøp: 7 \n",
      "2024-02-10 Total pengebruk: -5899.27 NOK Antall kjøp: 5 \n",
      "2024-02-04 Total pengebruk: -1367.1399999999999 NOK Antall kjøp: 5 \n"
     ]
    }
   ],
   "source": [
    "#3\n",
    "\n",
    "from collections import defaultdict\n",
    "\n",
    "dato_statistikk = defaultdict(lambda: {'antall_kjop': 0, 'total_pengebruk': 0})\n",
    "\n",
    "for kjop in betalinger:\n",
    "    dato = kjop['kjopsdato']\n",
    "    belop = float(kjop['belop'])  \n",
    "    \n",
    "    dato_statistikk[dato]['antall_kjop'] += 1\n",
    "    dato_statistikk[dato]['total_pengebruk'] += belop\n",
    "\n",
    "top_3_dato = sorted(dato_statistikk.items(), key=lambda x: x[1]['antall_kjop'], reverse=True)[:3]\n",
    "\n",
    "print(\"Top 3 datoer med gjentatte kjøp:\")\n",
    "for dato, stats in top_3_dato:\n",
    "    antall_kjop = stats['antall_kjop']\n",
    "    total_pengebruk = stats['total_pengebruk']\n",
    "    \n",
    "    print(f\"{dato} Total pengebruk: {total_pengebruk} NOK Antall kjøp: {antall_kjop} \")"
   ]
  }
 ],
 "metadata": {
  "kernelspec": {
   "display_name": "Python 3",
   "language": "python",
   "name": "python3"
  },
  "language_info": {
   "codemirror_mode": {
    "name": "ipython",
    "version": 3
   },
   "file_extension": ".py",
   "mimetype": "text/x-python",
   "name": "python",
   "nbconvert_exporter": "python",
   "pygments_lexer": "ipython3",
   "version": "3.11.1"
  }
 },
 "nbformat": 4,
 "nbformat_minor": 2
}
