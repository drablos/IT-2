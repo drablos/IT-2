{
 "cells": [
  {
   "cell_type": "code",
   "execution_count": 2,
   "metadata": {},
   "outputs": [],
   "source": [
    "import requests\n",
    "\n",
    "url = \"https://wttr.in/sandvika?format=j1\"\n",
    "respons = requests.get(url)\n",
    "data = respons.json()"
   ]
  },
  {
   "cell_type": "code",
   "execution_count": 4,
   "metadata": {},
   "outputs": [
    {
     "data": {
      "text/plain": [
       "'-3'"
      ]
     },
     "execution_count": 4,
     "metadata": {},
     "output_type": "execute_result"
    }
   ],
   "source": [
    "data['current_condition'][0]['FeelsLikeC'] # føles som\n",
    "værtype = data['current_condition'][0]['weatherDesc'][0]['value'] # værtypen\n",
    "temperatur = data['current_condition'][0]['temp_C'] # antall grader\n"
   ]
  },
  {
   "cell_type": "code",
   "execution_count": 11,
   "metadata": {},
   "outputs": [
    {
     "name": "stdout",
     "output_type": "stream",
     "text": [
      "moscow Overcast 1\n"
     ]
    }
   ],
   "source": [
    "import requests\n",
    "\n",
    "sted = input(\"Sted: \")\n",
    "url = f\"https://wttr.in/{sted}?format=j1\"\n",
    "respons = requests.get(url)\n",
    "data = respons.json()\n",
    "\n",
    "data['current_condition'][0]['FeelsLikeC'] # føles som\n",
    "værtype = data['current_condition'][0]['weatherDesc'][0]['value'] # værtypen\n",
    "temperatur = data['current_condition'][0]['temp_C'] # antall grader\n",
    "print(sted, værtype, temperatur)\n"
   ]
  },
  {
   "cell_type": "code",
   "execution_count": 13,
   "metadata": {},
   "outputs": [],
   "source": [
    "def vær(sted):\n",
    "    url = f\"https://wttr.in/{sted}?format=j1\"\n",
    "    respons = requests.get(url)\n",
    "    data = respons.json()\n",
    "\n",
    "    data['current_condition'][0]['FeelsLikeC'] # føles som\n",
    "    værtype = data['current_condition'][0]['weatherDesc'][0]['value'] # værtypen\n",
    "    temperatur = data['current_condition'][0]['temp_C'] # antall grader\n",
    "    return [værtype, temperatur]"
   ]
  },
  {
   "cell_type": "code",
   "execution_count": 14,
   "metadata": {},
   "outputs": [
    {
     "data": {
      "text/plain": [
       "['Partly cloudy', '1']"
      ]
     },
     "execution_count": 14,
     "metadata": {},
     "output_type": "execute_result"
    }
   ],
   "source": [
    "vær(\"oslo\")"
   ]
  }
 ],
 "metadata": {
  "kernelspec": {
   "display_name": "Python 3",
   "language": "python",
   "name": "python3"
  },
  "language_info": {
   "codemirror_mode": {
    "name": "ipython",
    "version": 3
   },
   "file_extension": ".py",
   "mimetype": "text/x-python",
   "name": "python",
   "nbconvert_exporter": "python",
   "pygments_lexer": "ipython3",
   "version": "3.11.1"
  }
 },
 "nbformat": 4,
 "nbformat_minor": 2
}
