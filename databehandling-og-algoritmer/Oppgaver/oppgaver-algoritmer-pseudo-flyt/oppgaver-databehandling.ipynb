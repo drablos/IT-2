{
 "cells": [
  {
   "cell_type": "code",
   "execution_count": 1,
   "metadata": {},
   "outputs": [
    {
     "name": "stdout",
     "output_type": "stream",
     "text": [
      "Spotify weekly top songs global 2023 uke 2\n"
     ]
    }
   ],
   "source": [
    "print(\"Spotify weekly top songs global 2023 uke 2\")"
   ]
  },
  {
   "cell_type": "code",
   "execution_count": 5,
   "metadata": {},
   "outputs": [],
   "source": [
    "import json\n",
    "with open(\"spotify.json\", encoding=\"utf-8\") as fil:\n",
    "    sanger = json.load(fil)"
   ]
  },
  {
   "cell_type": "code",
   "execution_count": 9,
   "metadata": {},
   "outputs": [
    {
     "name": "stdout",
     "output_type": "stream",
     "text": [
      "Sangen med flest uker på topplisten er Believer som har 358 på topplisten\n"
     ]
    }
   ],
   "source": [
    "# Oppgaver 1-1\n",
    "flest_uker = float(\"-inf\")\n",
    "flest_navn = \"tullenavn\"\n",
    "for uker in sanger:\n",
    "    if uker[\"uker_paa_listen\"] > flest_uker:\n",
    "        flest_uker = uker[\"uker_paa_listen\"]\n",
    "        flest_navn = uker[\"navn\"]\n",
    "\n",
    "print(f\"Sangen med flest uker på topplisten er {flest_navn} som har {flest_uker} på topplisten\")"
   ]
  },
  {
   "cell_type": "code",
   "execution_count": 12,
   "metadata": {},
   "outputs": [
    {
     "name": "stdout",
     "output_type": "stream",
     "text": [
      "120017297\n"
     ]
    }
   ],
   "source": [
    "# Oppgave 1-2\n",
    "streams = 0\n",
    "for sang in sanger:\n",
    "    if sang[\"artist\"] == \"Taylor Swift\":\n",
    "        streams += sang[\"antall_streams\"]\n",
    "print(streams)"
   ]
  },
  {
   "cell_type": "code",
   "execution_count": 23,
   "metadata": {},
   "outputs": [
    {
     "name": "stdout",
     "output_type": "stream",
     "text": [
      "Sangen som gikk opp flest plasser er: Murder On The Dancefloor\n"
     ]
    }
   ],
   "source": [
    "# Oppgave 1-3\n",
    "mest_oppgang = 0\n",
    "for sang in sanger:\n",
    "    oppgang = sang[\"forrige_plassering\"] - sang[\"plassering\"]\n",
    "    if oppgang > mest_oppgang:\n",
    "        mest_oppgang = oppgang\n",
    "        ny_sang = sang\n",
    "\n",
    "print(f\"Sangen som gikk opp flest plasser er: {ny_sang['navn']}\")"
   ]
  },
  {
   "cell_type": "code",
   "execution_count": 25,
   "metadata": {},
   "outputs": [],
   "source": [
    "import json\n",
    "with open(\"imdb_top250.json\", encoding=\"utf-8\") as fil:\n",
    "    filmer = json.load(fil)"
   ]
  },
  {
   "cell_type": "code",
   "execution_count": 27,
   "metadata": {},
   "outputs": [
    {
     "name": "stdout",
     "output_type": "stream",
     "text": [
      "Filmen som er øverst på listen er The Shawshank Redemption som er regissert av  ['Frank Darabont']\n"
     ]
    }
   ],
   "source": [
    "# Oppgave 2-1\n",
    "\n",
    "øverst = filmer[0]\n",
    "for film in filmer[1:]:\n",
    "    if film['karakter'] > øverst['karakter']:\n",
    "        øverst = film\n",
    "\n",
    "print(f\"Filmen som er øverst på listen er {øverst['navn']} som er regissert av {øverst['regissører']}\")"
   ]
  },
  {
   "cell_type": "code",
   "execution_count": 30,
   "metadata": {},
   "outputs": [
    {
     "name": "stdout",
     "output_type": "stream",
     "text": [
      "Gjennomsnittskarakteren for alle filmer er: 8.32199999999999\n"
     ]
    }
   ],
   "source": [
    "# Oppgave 2-2\n",
    "total_karakter = sum(film[\"karakter\"] for film in filmer)\n",
    "gjennomsnitt_karakter = total_karakter / 250\n",
    "\n",
    "print(f\"Gjennomsnittskarakteren for alle filmer er: {gjennomsnitt_karakter}\")\n",
    "\n"
   ]
  },
  {
   "cell_type": "code",
   "execution_count": 31,
   "metadata": {},
   "outputs": [
    {
     "name": "stdout",
     "output_type": "stream",
     "text": [
      "Gjennomsnittskarakteren for alle filmer er: 8.290000000000001\n"
     ]
    }
   ],
   "source": [
    "# Oppgave 2-3\n",
    "ti_filmer = filmer[:10]\n",
    "total_karakter = sum(film[\"karakter\"] for film in ti_filmer)\n",
    "gjennomsnitt_karakter = total_karakter / 10\n",
    "\n",
    "print(f\"Gjennomsnittskarakteren for alle filmer er: {gjennomsnitt_karakter}\")"
   ]
  },
  {
   "cell_type": "code",
   "execution_count": 33,
   "metadata": {},
   "outputs": [
    {
     "name": "stdout",
     "output_type": "stream",
     "text": [
      "Regissøren med flest filmer på listen er: Akira Kurosawa, antall filmer: 7\n"
     ]
    }
   ],
   "source": [
    "# Oppgave 2-4\n",
    "regissør_liste = {}\n",
    "\n",
    "for film in filmer:\n",
    "    for regissør in film[\"regissører\"]:\n",
    "        if regissør not in regissør_liste:\n",
    "            regissør_liste[regissør] = 1\n",
    "        else:\n",
    "            regissør_liste[regissør] += 1\n",
    "\n",
    "maks_antall_filmer = 0\n",
    "\n",
    "for regissør in regissør_liste:\n",
    "    antall_filmer = regissør_liste[regissør]\n",
    "    if antall_filmer > maks_antall_filmer:\n",
    "        mest_regissør = regissør\n",
    "        maks_antall_filmer = antall_filmer\n",
    "\n",
    "print(f\"Regissøren med flest filmer på listen er: {mest_regissør}, antall filmer: {maks_antall_filmer}\")\n",
    "\n"
   ]
  }
 ],
 "metadata": {
  "kernelspec": {
   "display_name": "Python 3",
   "language": "python",
   "name": "python3"
  },
  "language_info": {
   "codemirror_mode": {
    "name": "ipython",
    "version": 3
   },
   "file_extension": ".py",
   "mimetype": "text/x-python",
   "name": "python",
   "nbconvert_exporter": "python",
   "pygments_lexer": "ipython3",
   "version": "3.11.1"
  }
 },
 "nbformat": 4,
 "nbformat_minor": 2
}
