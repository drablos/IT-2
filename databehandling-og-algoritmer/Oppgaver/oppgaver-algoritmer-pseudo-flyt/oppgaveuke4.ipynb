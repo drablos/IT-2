{
 "cells": [
  {
   "cell_type": "code",
   "execution_count": 16,
   "metadata": {},
   "outputs": [],
   "source": [
    "# Oppgave 2-9\n",
    "gullballen = [\n",
    "  {\n",
    "    \"navn\": \"Luís Figo\",\n",
    "    \"år\": [2000],\n",
    "    \"nasjonalitet\": \"Portugal\",\n",
    "    \"klubber\": [\"Real Madrid\"]\n",
    "  },\n",
    "  {\n",
    "    \"navn\": \"Michael Owen\",\n",
    "    \"år\": [2001],\n",
    "    \"nasjonalitet\": \"England\",\n",
    "    \"klubber\": [\"Liverpool\"]\n",
    "  },\n",
    "  {\n",
    "    \"navn\": \"Ronaldo\",\n",
    "    \"år\": [2002],\n",
    "    \"nasjonalitet\": \"Brasil\",\n",
    "    \"klubber\": [\"Real Madrid\"]\n",
    "  },\n",
    "  {\n",
    "    \"navn\": \"Pavel Nedvěd\",\n",
    "    \"år\": [2003],\n",
    "    \"nasjonalitet\": \"Tsjekkia\",\n",
    "    \"klubber\": [\"Juventus\"]\n",
    "  },\n",
    "  {\n",
    "    \"navn\": \"Andriy Shevchenko\",\n",
    "    \"år\": [2004],\n",
    "    \"nasjonalitet\": \"Ukraina\",\n",
    "    \"klubber\": [\"Milan\"]\n",
    "  },\n",
    "  {\n",
    "    \"navn\": \"Ronaldinho\",\n",
    "    \"år\": [2005],\n",
    "    \"nasjonalitet\": \"Brasil\",\n",
    "    \"klubber\": [\"Barcelona\"]\n",
    "  },\n",
    "  {\n",
    "    \"navn\": \"Fabio Cannavaro\",\n",
    "    \"år\": [2006],\n",
    "    \"nasjonalitet\": \"Italia\",\n",
    "    \"klubber\": [\"Real Madrid\"]\n",
    "  },\n",
    "  {\n",
    "    \"navn\": \"Kaká\",\n",
    "    \"år\": [2007],\n",
    "    \"nasjonalitet\": \"Brasil\",\n",
    "    \"klubber\": [\"Milan\"]\n",
    "  },\n",
    "  {\n",
    "    \"navn\": \"Cristiano Ronaldo\",\n",
    "    \"år\": [2008, 2013, 2014, 2016, 2017],\n",
    "    \"nasjonalitet\": \"Portugal\",\n",
    "    \"klubber\": [\"Manchester United\", \"Real Madrid\"]\n",
    "  },\n",
    "  {\n",
    "    \"navn\": \"Lionel Messi\",\n",
    "    \"år\": [2009, 2010, 2011, 2012, 2015, 2019, 2021, 2023],\n",
    "    \"nasjonalitet\": \"Argentina\",\n",
    "    \"klubber\": [\"Barcelona\", \"Paris Saint-Germain F.C.\", \"Inter Miami\"]\n",
    "  },\n",
    "  {\n",
    "    \"navn\": \"Luka Modric\",\n",
    "    \"år\": [2018],\n",
    "    \"nasjonalitet\": \"Kroatia\",\n",
    "    \"klubber\": [\"Real Madrid\"]\n",
    "  },\n",
    "  {\n",
    "    \"navn\": \"Karim Benzema\",\n",
    "    \"år\": [2022],\n",
    "    \"nasjonalitet\": \"Frankrike\",\n",
    "    \"klubber\": [\"Real Madrid\"]\n",
    "  }\n",
    "]"
   ]
  },
  {
   "cell_type": "code",
   "execution_count": 17,
   "metadata": {},
   "outputs": [
    {
     "name": "stdout",
     "output_type": "stream",
     "text": [
      "{'navn': 'Luís Figo', 'år': [2000], 'nasjonalitet': 'Portugal', 'klubber': ['Real Madrid']}\n"
     ]
    }
   ],
   "source": [
    "# 2-9-1\n",
    "print(gullballen[0])"
   ]
  },
  {
   "cell_type": "code",
   "execution_count": 18,
   "metadata": {},
   "outputs": [
    {
     "name": "stdout",
     "output_type": "stream",
     "text": [
      "Luís Figo (Portugal): har 1 gullballer\n",
      "Michael Owen (England): har 1 gullballer\n",
      "Ronaldo (Brasil): har 1 gullballer\n",
      "Pavel Nedvěd (Tsjekkia): har 1 gullballer\n",
      "Andriy Shevchenko (Ukraina): har 1 gullballer\n",
      "Ronaldinho (Brasil): har 1 gullballer\n",
      "Fabio Cannavaro (Italia): har 1 gullballer\n",
      "Kaká (Brasil): har 1 gullballer\n",
      "Cristiano Ronaldo (Portugal): har 5 gullballer\n",
      "Lionel Messi (Argentina): har 8 gullballer\n",
      "Luka Modric (Kroatia): har 1 gullballer\n",
      "Karim Benzema (Frankrike): har 1 gullballer\n"
     ]
    }
   ],
   "source": [
    "# 2-9-2 og 3\n",
    "for spiller in gullballen:\n",
    "    antall_gullballer = len(spiller[\"år\"])\n",
    "    print(f\"{spiller['navn']} ({spiller['nasjonalitet']}): har {antall_gullballer} gullballer\")"
   ]
  },
  {
   "cell_type": "code",
   "execution_count": 20,
   "metadata": {},
   "outputs": [],
   "source": [
    "# Oppgave 2-10\n",
    "top_30 = [\n",
    "    {\"name\": \"Cristiano Ronaldo\", \"account\": \"@cristiano\", \"followers\": 617.16, \"nationality\": \"Portugal\"},\n",
    "    {\"name\": \"Leo Messi\", \"account\": \"@leomessi\", \"followers\": 497.05, \"nationality\": \"Argentina\"},\n",
    "    {\"name\": \"Selena Gomez\", \"account\": \"@selenagomez\", \"followers\": 429.66, \"nationality\": \"United States\"},\n",
    "    {\"name\": \"Kylie Jenner\", \"account\": \"@kyliejenner\", \"followers\": 399.45, \"nationality\": \"United States\"},\n",
    "    {\"name\": \"Dwayne Johnson\", \"account\": \"@therock\", \"followers\": 395.59, \"nationality\": \"United States\"},\n",
    "    {\"name\": \"Ariana Grande\", \"account\": \"@arianagrande\", \"followers\": 380.78, \"nationality\": \"United States\"},\n",
    "    {\"name\": \"Kim Kardashian\", \"account\": \"@kimkardashian\", \"followers\": 364, \"nationality\": \"United States\"},\n",
    "    {\"name\": \"Beyoncé\", \"account\": \"@beyonce\", \"followers\": 319.6, \"nationality\": \"United States\"},\n",
    "    {\"name\": \"Khloé Kardashian\", \"account\": \"@khloekardashian\", \"followers\": 311.3, \"nationality\": \"United States\"},\n",
    "    {\"name\": \"Nike\", \"account\": \"@nike\", \"followers\": 306, \"nationality\": \"United States\"},\n",
    "    {\"name\": \"Justin Bieber\", \"account\": \"@justinbieber\", \"followers\": 304.9, \"nationality\": \"Canada\"},\n",
    "    {\"name\": \"Taylor Swift\", \"account\": \"@taylorswift\", \"followers\": 282.8, \"nationality\": \"United States\"},\n",
    "    {\"name\": \"Neymar Jr\", \"account\": \"@neymarjr\", \"followers\": 282.7, \"nationality\": \"Brazil\"},\n",
    "    {\"name\": \"Kendall Jenner\", \"account\": \"@kendalljenner\", \"followers\": 279.9, \"nationality\": \"United States\"},\n",
    "    {\"name\": \"Jennifer Lopez\", \"account\": \"@jlo\", \"followers\": 277.2, \"nationality\": \"United States\"},\n",
    "    {\"name\": \"Nicki Minaj\", \"account\": \"@nickiminaj\", \"followers\": 262.5, \"nationality\": \"Trinidad and Tobago\"},\n",
    "    {\"name\": \"National Geographic\", \"account\": \"@natgeo\", \"followers\": 206.9, \"nationality\": \"United States\"},\n",
    "    {\"name\": \"Lionel Andrés Messi Cuccittini\", \"account\": \"@leomessi10\", \"followers\": 201.8, \"nationality\": \"Argentina\"},\n",
    "    {\"name\": \"Miley Cyrus\", \"account\": \"@mileycyrus\", \"followers\": 198.7, \"nationality\": \"United States\"},\n",
    "    {\"name\": \"Katy Perry\", \"account\": \"@katyperry\", \"followers\": 198.4, \"nationality\": \"United States\"},\n",
    "    {\"name\": \"Kourtney Kardashian\", \"account\": \"@kourtneykardash\", \"followers\": 196.8, \"nationality\": \"United States\"},\n",
    "    {\"name\": \"Kevin Hart\", \"account\": \"@kevinhart4real\", \"followers\": 195.8, \"nationality\": \"United States\"},\n",
    "    {\"name\": \"Ellen DeGeneres\", \"account\": \"@theellenshow\", \"followers\": 194.7, \"nationality\": \"United States\"},\n",
    "    {\"name\": \"Virat Kohli\", \"account\": \"@virat.kohli\", \"followers\": 194.5, \"nationality\": \"India\"},\n",
    "    {\"name\": \"Billie Eilish\", \"account\": \"@billieeilish\", \"followers\": 193.9, \"nationality\": \"United States\"},\n",
    "    {\"name\": \"Rihanna\", \"account\": \"@badgalriri\", \"followers\": 191.5, \"nationality\": \"Barbados\"},\n",
    "    {\"name\": \"Zendaya\", \"account\": \"@zendaya\", \"followers\": 190.9, \"nationality\": \"United States\"},\n",
    "    {\"name\": \"Drake\", \"account\": \"@champagnepapi\", \"followers\": 190.8, \"nationality\": \"Canada\"},\n",
    "    {\"name\": \"Emma Watson\", \"account\": \"@emmawatson\", \"followers\": 189.7, \"nationality\": \"United Kingdom\"},\n",
    "    {\"name\": \"LeBron James\", \"account\": \"@kingjames\", \"followers\": 188.8, \"nationality\": \"United States\"}\n",
    "]"
   ]
  },
  {
   "cell_type": "code",
   "execution_count": 21,
   "metadata": {},
   "outputs": [
    {
     "name": "stdout",
     "output_type": "stream",
     "text": [
      "Brukerene i top 30 lista sine følgere i gjennomsnitt er: 281.45966666666664\n"
     ]
    }
   ],
   "source": [
    "# 2-10-2\n",
    "total_følgere = sum(brukere['followers'] for brukere in top_30)\n",
    "gjennomsnitt_følgere = total_følgere / 30\n",
    "print(f\"Brukerene i top 30 lista sine følgere i gjennomsnitt er: {gjennomsnitt_følgere}\")"
   ]
  },
  {
   "cell_type": "code",
   "execution_count": 22,
   "metadata": {},
   "outputs": [
    {
     "name": "stdout",
     "output_type": "stream",
     "text": [
      "Antall kontoer som ikke er fra USA: 10\n"
     ]
    }
   ],
   "source": [
    "# 2-10-3\n",
    "ikke_USA = 0\n",
    "for bruker in top_30:\n",
    "    if bruker[\"nationality\"] != \"United States\":\n",
    "        ikke_USA += 1\n",
    "print(f\"Antall kontoer som ikke er fra USA: {ikke_USA}\")"
   ]
  },
  {
   "cell_type": "code",
   "execution_count": 23,
   "metadata": {},
   "outputs": [],
   "source": [
    "# Oppgave 2-11\n",
    "land_info = [\n",
    "    {\"land\": \"Kina\", \"hovedstad\": \"Beijing\", \"befolkning\": 1410000000, \"språk\": [\"Mandarin\"]},\n",
    "    {\"land\": \"India\", \"hovedstad\": \"New Delhi\", \"befolkning\": 1390000000, \"språk\": [\"Hindi\", \"Engelsk\"]},\n",
    "    {\"land\": \"USA\", \"hovedstad\": \"Washington, D.C.\", \"befolkning\": 331000000, \"språk\": [\"Engelsk\"]},\n",
    "    {\"land\": \"Indonesia\", \"hovedstad\": \"Jakarta\", \"befolkning\": 273000000, \"språk\": [\"Indonesisk\"]},\n",
    "    {\"land\": \"Pakistan\", \"hovedstad\": \"Islamabad\", \"befolkning\": 225000000, \"språk\": [\"Urdu\", \"Engelsk\"]},\n",
    "    {\"land\": \"Brasil\", \"hovedstad\": \"Brasília\", \"befolkning\": 213000000, \"språk\": [\"Portugisisk\"]},\n",
    "    {\"land\": \"Nigeria\", \"hovedstad\": \"Abuja\", \"befolkning\": 211000000, \"språk\": [\"Engelsk\"]},\n",
    "    {\"land\": \"Bangladesh\", \"hovedstad\": \"Dhaka\", \"befolkning\": 166000000, \"språk\": [\"Bengali\"]},\n",
    "    {\"land\": \"Russland\", \"hovedstad\": \"Moskva\", \"befolkning\": 146000000, \"språk\": [\"Russisk\"]},\n",
    "    {\"land\": \"Mexico\", \"hovedstad\": \"Mexico City\", \"befolkning\": 128000000, \"språk\": [\"Spansk\"]},\n",
    "    {\"land\": \"Japan\", \"hovedstad\": \"Tokyo\", \"befolkning\": 125000000, \"språk\": [\"Japansk\"]},\n",
    "    {\"land\": \"Etiopia\", \"hovedstad\": \"Addis Ababa\", \"befolkning\": 118000000, \"språk\": [\"Amharisk\"]},\n",
    "    {\"land\": \"Filippinene\", \"hovedstad\": \"Manila\", \"befolkning\": 113000000, \"språk\": [\"Filippinsk\"]},\n",
    "    {\"land\": \"Egypt\", \"hovedstad\": \"Kairo\", \"befolkning\": 104000000, \"språk\": [\"Arabisk\"]},\n",
    "    {\"land\": \"Vietnam\", \"hovedstad\": \"Hanoi\", \"befolkning\": 97400000, \"språk\": [\"Vietnamesisk\"]},\n",
    "    {\"land\": \"DR Kongo\", \"hovedstad\": \"Kinshasa\", \"befolkning\": 90000000, \"språk\": [\"Fransk\"]},\n",
    "    {\"land\": \"Turkey\", \"hovedstad\": \"Ankara\", \"befolkning\": 83700000, \"språk\": [\"Tyrkisk\"]},\n",
    "    {\"land\": \"Iran\", \"hovedstad\": \"Teheran\", \"befolkning\": 83700000, \"språk\": [\"Persisk\"]},\n",
    "    {\"land\": \"Tyskland\", \"hovedstad\": \"Berlin\", \"befolkning\": 83000000, \"språk\": [\"Tysk\"]},\n",
    "    {\"land\": \"Thailand\", \"hovedstad\": \"Bangkok\", \"befolkning\": 70000000, \"språk\": [\"Thai\"]},\n",
    "    {\"land\": \"Frankrike\", \"hovedstad\": \"Paris\", \"befolkning\": 67000000, \"språk\": [\"Fransk\"]},\n",
    "    {\"land\": \"Storbritannia\", \"hovedstad\": \"London\", \"befolkning\": 67000000, \"språk\": [\"Engelsk\"]},\n",
    "    {\"land\": \"Italia\", \"hovedstad\": \"Roma\", \"befolkning\": 60300000, \"språk\": [\"Italiensk\"]},\n",
    "    {\"land\": \"Sør-Afrika\", \"hovedstad\": \"Pretoria, Cape Town, Bloemfontein\", \"befolkning\": 60000000,\n",
    "     \"språk\": [\"Afrikaans\", \"Engelsk\", \"isiNdebele\", \"isiXhosa\", \"isiZulu\", \"sesotho\", \"Setswana\", \"siSwati\", \"Tshivenda\", \"Xitsonga\"]},\n",
    "    {\"land\": \"Myanmar\", \"hovedstad\": \"Naypyidaw\", \"befolkning\": 54400000, \"språk\": [\"Burmese\"]},\n",
    "    {\"land\": \"Sør-Korea\", \"hovedstad\": \"Seoul\", \"befolkning\": 51700000, \"språk\": [\"Koreansk\"]},\n",
    "    {\"land\": \"Colombia\", \"hovedstad\": \"Bogotá\", \"befolkning\": 50300000, \"språk\": [\"Spansk\"]},\n",
    "    {\"land\": \"Kenya\", \"hovedstad\": \"Nairobi\", \"befolkning\": 49000000, \"språk\": [\"Swahili\", \"Engelsk\"]},\n",
    "    {\"land\": \"Spania\", \"hovedstad\": \"Madrid\", \"befolkning\": 47000000, \"språk\": [\"Spansk\"]},\n",
    "    {\"land\": \"Argentina\", \"hovedstad\": \"Buenos Aires\", \"befolkning\": 45000000, \"språk\": [\"Spansk\"]},\n",
    "]\n"
   ]
  },
  {
   "cell_type": "code",
   "execution_count": 24,
   "metadata": {},
   "outputs": [
    {
     "name": "stdout",
     "output_type": "stream",
     "text": [
      "{'land': 'Argentina', 'hovedstad': 'Buenos Aires', 'befolkning': 45000000, 'språk': ['Spansk']}\n"
     ]
    }
   ],
   "source": [
    "# 2-11-1\n",
    "for land in land_info:\n",
    "    if land['land'] == \"Argentina\":\n",
    "        print(land)\n"
   ]
  },
  {
   "cell_type": "code",
   "execution_count": 25,
   "metadata": {},
   "outputs": [
    {
     "name": "stdout",
     "output_type": "stream",
     "text": [
      "Land: Kina, Hovedstad: Beijing, Antall språk: 1\n",
      "Land: India, Hovedstad: New Delhi, Antall språk: 2\n",
      "Land: USA, Hovedstad: Washington, D.C., Antall språk: 1\n",
      "Land: Indonesia, Hovedstad: Jakarta, Antall språk: 1\n",
      "Land: Pakistan, Hovedstad: Islamabad, Antall språk: 2\n",
      "Land: Brasil, Hovedstad: Brasília, Antall språk: 1\n",
      "Land: Nigeria, Hovedstad: Abuja, Antall språk: 1\n",
      "Land: Bangladesh, Hovedstad: Dhaka, Antall språk: 1\n",
      "Land: Russland, Hovedstad: Moskva, Antall språk: 1\n",
      "Land: Mexico, Hovedstad: Mexico City, Antall språk: 1\n",
      "Land: Japan, Hovedstad: Tokyo, Antall språk: 1\n",
      "Land: Etiopia, Hovedstad: Addis Ababa, Antall språk: 1\n",
      "Land: Filippinene, Hovedstad: Manila, Antall språk: 1\n",
      "Land: Egypt, Hovedstad: Kairo, Antall språk: 1\n",
      "Land: Vietnam, Hovedstad: Hanoi, Antall språk: 1\n",
      "Land: DR Kongo, Hovedstad: Kinshasa, Antall språk: 1\n",
      "Land: Turkey, Hovedstad: Ankara, Antall språk: 1\n",
      "Land: Iran, Hovedstad: Teheran, Antall språk: 1\n",
      "Land: Tyskland, Hovedstad: Berlin, Antall språk: 1\n",
      "Land: Thailand, Hovedstad: Bangkok, Antall språk: 1\n",
      "Land: Frankrike, Hovedstad: Paris, Antall språk: 1\n",
      "Land: Storbritannia, Hovedstad: London, Antall språk: 1\n",
      "Land: Italia, Hovedstad: Roma, Antall språk: 1\n",
      "Land: Sør-Afrika, Hovedstad: Pretoria, Cape Town, Bloemfontein, Antall språk: 10\n",
      "Land: Myanmar, Hovedstad: Naypyidaw, Antall språk: 1\n",
      "Land: Sør-Korea, Hovedstad: Seoul, Antall språk: 1\n",
      "Land: Colombia, Hovedstad: Bogotá, Antall språk: 1\n",
      "Land: Kenya, Hovedstad: Nairobi, Antall språk: 2\n",
      "Land: Spania, Hovedstad: Madrid, Antall språk: 1\n",
      "Land: Argentina, Hovedstad: Buenos Aires, Antall språk: 1\n"
     ]
    }
   ],
   "source": [
    "# 2-11-2\n",
    "for land in land_info:\n",
    "    print(f\"Land: {land['land']}, Hovedstad: {land['hovedstad']}, Antall språk: {len(land['språk'])}\")"
   ]
  },
  {
   "cell_type": "code",
   "execution_count": 28,
   "metadata": {},
   "outputs": [
    {
     "name": "stdout",
     "output_type": "stream",
     "text": [
      "Landet med flest språk er: Sør-Afrika\n"
     ]
    }
   ],
   "source": [
    "# 2-11-3\n",
    "maks_antall_sprak = 0\n",
    "\n",
    "for land in land_info:\n",
    "    antall_sprak = len(land['språk'])\n",
    "    if antall_sprak > maks_antall_sprak:\n",
    "        maks_antall_sprak = antall_sprak\n",
    "        land_med_flest_sprak = land['land']\n",
    "\n",
    "print(\"Landet med flest språk er:\", land_med_flest_sprak)"
   ]
  },
  {
   "cell_type": "code",
   "execution_count": 26,
   "metadata": {},
   "outputs": [
    {
     "name": "stdout",
     "output_type": "stream",
     "text": [
      "Mandarin: 1 land\n",
      "Hindi: 1 land\n",
      "Engelsk: 7 land\n",
      "Indonesisk: 1 land\n",
      "Urdu: 1 land\n",
      "Portugisisk: 1 land\n",
      "Bengali: 1 land\n",
      "Russisk: 1 land\n",
      "Spansk: 4 land\n",
      "Japansk: 1 land\n",
      "Amharisk: 1 land\n",
      "Filippinsk: 1 land\n",
      "Arabisk: 1 land\n",
      "Vietnamesisk: 1 land\n",
      "Fransk: 2 land\n",
      "Tyrkisk: 1 land\n",
      "Persisk: 1 land\n",
      "Tysk: 1 land\n",
      "Thai: 1 land\n",
      "Italiensk: 1 land\n",
      "Afrikaans: 1 land\n",
      "isiNdebele: 1 land\n",
      "isiXhosa: 1 land\n",
      "isiZulu: 1 land\n",
      "sesotho: 1 land\n",
      "Setswana: 1 land\n",
      "siSwati: 1 land\n",
      "Tshivenda: 1 land\n",
      "Xitsonga: 1 land\n",
      "Burmese: 1 land\n",
      "Koreansk: 1 land\n",
      "Swahili: 1 land\n"
     ]
    }
   ],
   "source": [
    "# 2-11-4\n",
    "sprak_oversikt = {}\n",
    "\n",
    "for land in land_info:\n",
    "    for sprak in land[\"språk\"]:\n",
    "        if sprak in sprak_oversikt:\n",
    "            sprak_oversikt[sprak] += 1\n",
    "        else:\n",
    "            sprak_oversikt[sprak] = 1\n",
    "\n",
    "for sprak in sprak_oversikt:\n",
    "    antall_land = sprak_oversikt[sprak]\n",
    "    print(f\"{sprak}: {antall_land} land\")\n"
   ]
  },
  {
   "cell_type": "code",
   "execution_count": 27,
   "metadata": {},
   "outputs": [
    {
     "name": "stdout",
     "output_type": "stream",
     "text": [
      "Språket med flest land er 'Engelsk' med 7 land.\n"
     ]
    }
   ],
   "source": [
    "# 2-11-5\n",
    "flest_land_sprak = max(sprak_oversikt, key=sprak_oversikt.get)\n",
    "antall_land = sprak_oversikt[flest_land_sprak]\n",
    "\n",
    "print(f\"Språket med flest land er '{flest_land_sprak}' med {antall_land} land.\")"
   ]
  }
 ],
 "metadata": {
  "kernelspec": {
   "display_name": "Python 3",
   "language": "python",
   "name": "python3"
  },
  "language_info": {
   "codemirror_mode": {
    "name": "ipython",
    "version": 3
   },
   "file_extension": ".py",
   "mimetype": "text/x-python",
   "name": "python",
   "nbconvert_exporter": "python",
   "pygments_lexer": "ipython3",
   "version": "3.11.1"
  }
 },
 "nbformat": 4,
 "nbformat_minor": 2
}
