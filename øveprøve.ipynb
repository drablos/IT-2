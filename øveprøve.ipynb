{
 "cells": [
  {
   "cell_type": "markdown",
   "metadata": {},
   "source": [
    "# Oppgave 1.1\n",
    "Svar:\n",
    "a\n",
    "\n",
    "# Oppgave 1.2\n",
    "Svar: \n",
    "hei\n",
    "hallo\n",
    "\n",
    "# Oppgave 1.3\n",
    "Svar: \n",
    "h\n",
    "a\n",
    "l\n",
    "l\n",
    "o\n",
    "\n",
    "# Oppgave 1.4\n",
    "9\n",
    "\n",
    "# Oppgave 1.5\n",
    "SET høyest TO liste[0]\n",
    "FOR tall IN liste:\n",
    "    IF tall GREATER THAN høyest:\n",
    "    THEN SET høyest TO tall\n",
    "    ENDIF\n",
    "ENDFOR\n",
    "DISPLAY høyest\n",
    "\n",
    "\n",
    "\n",
    "\n"
   ]
  }
 ],
 "metadata": {
  "language_info": {
   "name": "python"
  }
 },
 "nbformat": 4,
 "nbformat_minor": 2
}
